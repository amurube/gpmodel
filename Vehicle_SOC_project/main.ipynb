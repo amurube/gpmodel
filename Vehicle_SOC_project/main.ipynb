{
 "cells": [
  {
   "cell_type": "markdown",
   "metadata": {},
   "source": [
    "# Notebook to predict the battery SOC using SSGP model\n",
    "\n",
    "Dataset was collected from the following link:\n",
    "https://www.kaggle.com/datasets/atechnohazard/battery-and-heating-data-in-real-driving-cycles\n",
    "\n",
    "SSGP model was implemented using the following link:\n",
    "https://github.com/linesd/SSGPR\n"
   ]
  },
  {
   "cell_type": "code",
   "execution_count": null,
   "metadata": {},
   "outputs": [],
   "source": [
    "import sys\n",
    "import numpy as np\n",
    "from model.ssgpr import SSGPR\n",
    "np.random.seed(1)  # set seed\n",
    "import os.path\n",
    "import pandas as pd\n",
    "import chardet"
   ]
  },
  {
   "cell_type": "code",
   "execution_count": null,
   "metadata": {},
   "outputs": [],
   "source": [
    "df_all = pd.DataFrame()\n",
    "for root, dirs, files in os.walk(\"./data/Trips\"):\n",
    "    for name in files:\n",
    "        filename = os.path.join(root, name)\n",
    "        print(filename)\n",
    "        df = pd.read_csv(filename,\n",
    "                        sep=';',\n",
    "                        encoding=chardet.detect(open(filename, 'rb').read())['encoding'])\n",
    "        df['meas'] = name\n",
    "        df_all = pd.concat([df_all, df])"
   ]
  },
  {
   "cell_type": "code",
   "execution_count": null,
   "metadata": {},
   "outputs": [],
   "source": [
    "df_all"
   ]
  },
  {
   "cell_type": "code",
   "execution_count": null,
   "metadata": {},
   "outputs": [],
   "source": [
    "df_all.to_pickle('data/df_all.pkl')"
   ]
  },
  {
   "cell_type": "markdown",
   "metadata": {},
   "source": [
    "# 1. EDA"
   ]
  },
  {
   "cell_type": "code",
   "execution_count": null,
   "metadata": {},
   "outputs": [],
   "source": [
    "df_all = pd.read_pickle('data/df_all.pkl')"
   ]
  },
  {
   "cell_type": "code",
   "execution_count": null,
   "metadata": {},
   "outputs": [],
   "source": [
    "df_all.describe()"
   ]
  },
  {
   "cell_type": "code",
   "execution_count": null,
   "metadata": {},
   "outputs": [],
   "source": [
    "# drop unnecessary signals\n",
    "signals_to_drop = [\n",
    "    'max. Battery Temperature [°C]',\n",
    "    'displayed SoC [%]',\n",
    "    'min. SoC [%]', 'max. SoC [%)',\n",
    "    'Requested Coolant Temperature [°C]',\n",
    "    'Unnamed: 23',\n",
    "    'Velocity [km/h]]]',\n",
    "    'Heating Power LIN [W]', # from here on, all signals are not available\n",
    "    'Heater Voltage [V]',\n",
    "    'Heater Current [A]',\n",
    "    'Coolant Temperature Heatercore [°C]',\n",
    "    'Coolant Temperature Inlet [°C]',\n",
    "    'Ambient Temperature Sensor [°C]',\n",
    "    'Coolant Volume Flow +500 [l/h]',\n",
    "    'Temperature Coolant Heater Inlet [°C]',\n",
    "    'Temperature Coolant Heater Outlet [°C]',\n",
    "    'Temperature Heat Exchanger Outlet [°C]',\n",
    "    'Temperature Defrost lateral left [°C]',\n",
    "    'Temperature Defrost lateral right [°C]',\n",
    "    'Temperature Defrost central [°C]',\n",
    "    'Temperature Defrost central left [°C]',\n",
    "    'Temperature Defrost central right [°C]',\n",
    "    'Temperature Footweel Driver [°C]',\n",
    "    'Temperature Footweel Co-Driver [°C]',\n",
    "    'Temperature Feetvent Co-Driver [°C]',\n",
    "    'Temperature Feetvent Driver [°C]',\n",
    "    'Temperature Head Co-Driver [°C]',\n",
    "    'Temperature Head Driver [°C]',\n",
    "    'Temperature Vent right [°C]',\n",
    "    'Temperature Vent central right [°C]',\n",
    "    'Temperature Vent central left [°C]', \n",
    "    'Temperature Vent right [°C] ']\n",
    "df_all = df_all.drop(columns=signals_to_drop)"
   ]
  },
  {
   "cell_type": "code",
   "execution_count": null,
   "metadata": {},
   "outputs": [],
   "source": [
    "df_all.isna().sum()"
   ]
  },
  {
   "cell_type": "code",
   "execution_count": null,
   "metadata": {},
   "outputs": [],
   "source": [
    "df_all.isna()"
   ]
  },
  {
   "cell_type": "code",
   "execution_count": null,
   "metadata": {},
   "outputs": [],
   "source": [
    "# find measurements where nan values are present\n",
    "df_all[df_all.isna()['SoC [%]']]['meas'].unique()"
   ]
  },
  {
   "cell_type": "code",
   "execution_count": null,
   "metadata": {},
   "outputs": [],
   "source": [
    "meas_list = df_all[df_all.isna()['SoC [%]']]['meas'].unique()\n",
    "for meas in meas_list:\n",
    "    print(f\"{meas}: {df_all[df_all['meas']==meas]['SoC [%]'].isna().sum()}\")"
   ]
  },
  {
   "cell_type": "code",
   "execution_count": null,
   "metadata": {},
   "outputs": [],
   "source": [
    "plt.figure()\n",
    "plt.plot(df_all[df_all['meas']=='TripB34.csv']['SoC [%]'].isna())"
   ]
  },
  {
   "cell_type": "code",
   "execution_count": null,
   "metadata": {},
   "outputs": [],
   "source": [
    "# nan are present only towards the end of the measurements. Therefore they can be dropped. No other strategy is needed.\n",
    "df_all.dropna(inplace=True)"
   ]
  },
  {
   "cell_type": "code",
   "execution_count": null,
   "metadata": {},
   "outputs": [],
   "source": [
    "df_all.describe()"
   ]
  },
  {
   "cell_type": "code",
   "execution_count": null,
   "metadata": {},
   "outputs": [],
   "source": [
    "correlation_matrix = df_all.corr()"
   ]
  },
  {
   "cell_type": "code",
   "execution_count": null,
   "metadata": {},
   "outputs": [],
   "source": [
    "correlation_matrix.loc['SoC [%]'].sort_values(ascending=False)"
   ]
  },
  {
   "cell_type": "code",
   "execution_count": null,
   "metadata": {},
   "outputs": [],
   "source": [
    "# plot correlation matrix using plotly\n",
    "import plotly.figure_factory as ff\n",
    "import plotly.graph_objects as go\n",
    "\n",
    "fig = ff.create_annotated_heatmap(z=correlation_matrix.values,\n",
    "                                  x=list(correlation_matrix.columns),\n",
    "                                  y=list(correlation_matrix.index),\n",
    "                                  annotation_text=correlation_matrix.round(2).values,\n",
    "                                  colorscale='Viridis')\n",
    "fig.update_layout(\n",
    "                title_text='Correlation Matrix',\n",
    "                width = 1000,\n",
    "                height = 1000,)\n",
    "print(type(fig))\n",
    "fig.show()"
   ]
  },
  {
   "cell_type": "code",
   "execution_count": null,
   "metadata": {},
   "outputs": [],
   "source": [
    "from ydata_profiling import ProfileReport\n",
    "profile = ProfileReport(df_all, title=\"Profiling Report\")"
   ]
  },
  {
   "cell_type": "code",
   "execution_count": null,
   "metadata": {},
   "outputs": [],
   "source": [
    "profile.to_widgets()"
   ]
  },
  {
   "cell_type": "code",
   "execution_count": null,
   "metadata": {},
   "outputs": [],
   "source": [
    "profile.to_file(\"your_report.html\")"
   ]
  },
  {
   "cell_type": "markdown",
   "metadata": {},
   "source": [
    "# Train model"
   ]
  },
  {
   "cell_type": "code",
   "execution_count": null,
   "metadata": {},
   "outputs": [],
   "source": [
    "# import train_test_split from sklearn.model_selection\n",
    "from sklearn.model_selection import train_test_split"
   ]
  },
  {
   "cell_type": "code",
   "execution_count": null,
   "metadata": {},
   "outputs": [],
   "source": [
    "output = 'SoC [%]'\n",
    "X = df_all.drop(['SoC [%]', 'Time [s]', 'Motor Torque [Nm]', 'meas'], axis=1) # motor torque is colinear with acceleration\n",
    "y = df_all[output]"
   ]
  },
  {
   "cell_type": "code",
   "execution_count": null,
   "metadata": {},
   "outputs": [],
   "source": [
    "X_train, X_test, y_train, y_test = train_test_split(X, y, test_size=0.2, random_state=42)"
   ]
  },
  {
   "cell_type": "code",
   "execution_count": null,
   "metadata": {},
   "outputs": [],
   "source": [
    "# TODO: use seaborn jointplot to visualize the data\n"
   ]
  },
  {
   "cell_type": "code",
   "execution_count": null,
   "metadata": {},
   "outputs": [],
   "source": [
    "X_train"
   ]
  },
  {
   "cell_type": "code",
   "execution_count": null,
   "metadata": {},
   "outputs": [],
   "source": [
    "# create ssgpr instance\n",
    "nbf = 100  # number of basis functions\n",
    "ssgpr = SSGPR(num_basis_functions=nbf)\n",
    "ssgpr.add_data(X_train.values, \n",
    "                y_train.values.reshape(-1,1), \n",
    "                X_test.values, \n",
    "                y_test.values.reshape(-1,1))\n",
    "ssgpr.optimize(restarts=1, maxiter=10, verbose=True)\n",
    "\n",
    "# predict on the test points\n",
    "mu, sigma = ssgpr.predict(X_test.values, sample_posterior=False)\n",
    "\n",
    "# evaluate the performance\n",
    "NMSE, MNLP = ssgpr.evaluate_performance()\n",
    "print(\"Normalised mean squared error (NMSE): %.5f\" % NMSE)\n",
    "print(\"Mean negative log probability (MNLP): %.5f\" % MNLP)"
   ]
  },
  {
   "cell_type": "code",
   "execution_count": null,
   "metadata": {},
   "outputs": [],
   "source": [
    "measurements = df_all['meas'].unique()\n",
    "measurements"
   ]
  },
  {
   "cell_type": "code",
   "execution_count": null,
   "metadata": {},
   "outputs": [],
   "source": [
    "for meas in measurements:\n",
    "    df_meas = df_all.where(df_all['meas']==meas)\n",
    "    time = df_meas['Time [s]']\n",
    "    X = df_meas.drop(['SoC [%]', 'Time [s]', 'Motor Torque [Nm]', 'meas'], axis=1)\n",
    "    y = df_meas['SoC [%]']\n",
    "    plt.figure(figsize=(15,6))\n",
    "    # predict on the measurement points\n",
    "    mu, sigma = ssgpr.predict(X.values, sample_posterior=False)\n",
    "    plt.plot(time, y, label=\"Measured data\", color='blue')  # training data\n",
    "    plt.plot(time, mu, label=\"Predictive mean\", color='red')  # predictive mean\n",
    "    plt.fill_between(time, (mu - 2 * sigma).flat, (mu + 2 * sigma).flat, color=\"#dddddd\",\n",
    "                        label=\"95% confidence interval\")\n",
    "\n",
    "    plt.grid()\n",
    "    plt.xlabel(\"inputs, X\")\n",
    "    plt.ylabel(\"targets, Y\")\n",
    "    plt.legend(loc='lower right')\n",
    "    plt.title(meas)\n",
    "    plt.show()"
   ]
  },
  {
   "cell_type": "code",
   "execution_count": null,
   "metadata": {},
   "outputs": [],
   "source": [
    "X = df_all.drop(['SoC [%]', 'Time [s]', 'Motor Torque [Nm]', 'meas'], axis=1)\n",
    "y = df_all['SoC [%]']\n",
    "time = range(len(df_all['Time [s]']))"
   ]
  },
  {
   "cell_type": "code",
   "execution_count": null,
   "metadata": {},
   "outputs": [],
   "source": [
    "plt.figure(figsize=(15,6))\n",
    "# predict on the measurement points\n",
    "mu, sigma = ssgpr.predict(X.values, sample_posterior=False)\n",
    "plt.plot(time, y, label=\"Training data\", color='blue')  # training data\n",
    "plt.plot(time, mu, label=\"Predictive mean\", color='red')  # predictive mean\n",
    "plt.fill_between(time, (mu - 2 * sigma).flat, (mu + 2 * sigma).flat, color=\"#dddddd\",\n",
    "                    label=\"95% confidence interval\")\n",
    "\n",
    "plt.grid()\n",
    "plt.xlabel(\"inputs, X\")\n",
    "plt.ylabel(\"targets, Y\")\n",
    "plt.legend(loc='lower right')\n",
    "plt.show()"
   ]
  },
  {
   "cell_type": "code",
   "execution_count": null,
   "metadata": {},
   "outputs": [],
   "source": []
  }
 ],
 "metadata": {
  "kernelspec": {
   "display_name": "project_bayes",
   "language": "python",
   "name": "python3"
  },
  "language_info": {
   "codemirror_mode": {
    "name": "ipython",
    "version": 3
   },
   "file_extension": ".py",
   "mimetype": "text/x-python",
   "name": "python",
   "nbconvert_exporter": "python",
   "pygments_lexer": "ipython3",
   "version": "3.11.4"
  },
  "orig_nbformat": 4
 },
 "nbformat": 4,
 "nbformat_minor": 2
}
